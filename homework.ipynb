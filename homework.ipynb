{
 "cells": [
  {
   "cell_type": "code",
   "execution_count": 82,
   "id": "5ab7ee3a-cb67-450c-a0e6-a8b8af34d8cf",
   "metadata": {},
   "outputs": [
    {
     "name": "stdout",
     "output_type": "stream",
     "text": [
      "53.333333333333336\n"
     ]
    }
   ],
   "source": [
    "## 홍길동 씨의 국어, 수학, 영어의 점수는 차례대로 50, 80, 30이다. 모두 변수로 선언하고, 평균을 출력하라.\n",
    "\n",
    "sub1 = 50 # 국어 점수 선언\n",
    "sub2 = 80 # 수학 점수 선언\n",
    "sub3 = 30 # 영어 점수 선언\n",
    "print((sub1+sub2+sub3)/3) # 평균 계산 후 출력"
   ]
  },
  {
   "cell_type": "code",
   "execution_count": 1,
   "id": "5267f6fa-4aaf-4a1a-8574-2a7ce710798b",
   "metadata": {},
   "outputs": [
    {
     "name": "stdout",
     "output_type": "stream",
     "text": [
      "짝수입니다\n"
     ]
    }
   ],
   "source": [
    "## 자연수 409298570가 짝수인지 프로그래밍으로 판별하라.\n",
    "\n",
    "num = 409298570 # 자연수 409298570 정의\n",
    "if num%2 == 0 : # 짝수인지 판별\n",
    "    print(\"짝수입니다\") # 짝수일때 출력\n",
    "elif num%2 == 1 : # 홀수인지 판별\n",
    "    print(\"홀수입니다\") # 홀수일때 출력"
   ]
  },
  {
   "cell_type": "code",
   "execution_count": 80,
   "id": "30777034-7aa5-4127-9be4-f3ce5558c49c",
   "metadata": {},
   "outputs": [
    {
     "name": "stdout",
     "output_type": "stream",
     "text": [
      "국어, 수학, 영어, 프로그래밍\n"
     ]
    }
   ],
   "source": [
    "## 다음과 같이 \"국어:수학:영어:프로그래밍\" 이라는 문자열이 있다. 내장함수를 이용하여 \"국어, 수학, 영어, 프로그래밍\"으로 바꿔 출력하라.\n",
    "\n",
    "str = \"국어:수학:영어:프로그래밍\" # 문자열 \"국어:수학:영어:프로그래밍\" 정의\n",
    "print(str.replace(':',', ')) # 내장함수 replace를 통해 \"국어, 수학, 영어, 프로그래밍\"으로 바꿔 출력"
   ]
  },
  {
   "cell_type": "code",
   "execution_count": 83,
   "id": "d58bfdc4-a4a1-4624-9623-76af53418f69",
   "metadata": {},
   "outputs": [
    {
     "name": "stdout",
     "output_type": "stream",
     "text": [
      "[5, 80, 3, 70, 1]\n"
     ]
    }
   ],
   "source": [
    "## 다음과 같은 리스트가 있다. [1, 70, 3, 80, 5]. 내장함수를 이용해서 뒤집어서 [5, 80, 3, 70, 1]로 만들고 출력하라.\n",
    "\n",
    "li = [1, 70, 3, 80, 5] # 리스트 정의\n",
    "li.reverse() # 내장함수 reverse()를 통해 리스트 순서 뒤집기\n",
    "print(li) # 순서를 뒤집은 리스트 출력"
   ]
  },
  {
   "cell_type": "code",
   "execution_count": 84,
   "id": "4bc309df-e62c-495f-b926-9616a2d4a958",
   "metadata": {},
   "outputs": [
    {
     "name": "stdout",
     "output_type": "stream",
     "text": [
      "파이썬은 정말 편하다\n"
     ]
    }
   ],
   "source": [
    "## 다음과 같은 리스트가 있다. [\"파이썬은\", \"정말\", \"편하다\"]. 내장함수를 이용하여 \"파이썬은 정말 편하다\"를 만들고 출력하라.\n",
    "\n",
    "li = [\"파이썬은\", \"정말\", \"편하다\"] # 리스트 정의\n",
    "print(' '.join(li)) # 내장함수 join을 통해 리스트를 문자열로 출력"
   ]
  },
  {
   "cell_type": "code",
   "execution_count": 85,
   "id": "d8f1cde0-bd13-4d62-b497-073d5dfe351d",
   "metadata": {},
   "outputs": [
    {
     "name": "stdout",
     "output_type": "stream",
     "text": [
      "[1, 3, 4, 5, 10, 50, 410]\n"
     ]
    }
   ],
   "source": [
    "## 다음과 같은 리스트가 있다. [1, 50, 410, 10, 3, 4, 5]. 내장함수를 이용해서 오름차순으로 정렬하고 출력하라.\n",
    "\n",
    "li = [1, 50, 410, 10, 3, 4, 5] # 리스트 정의\n",
    "print(sorted(li)) # 내장함수 sorted를 통해 오름차순으로 정렬 후 출력"
   ]
  },
  {
   "cell_type": "code",
   "execution_count": 86,
   "id": "ee12521f-f903-4d9b-a9a7-7918eb401ee0",
   "metadata": {},
   "outputs": [
    {
     "name": "stdout",
     "output_type": "stream",
     "text": [
      "l love python\n"
     ]
    }
   ],
   "source": [
    "## 다음과 같은 문자열이 있다. \" I love python \". 양쪽의 공백을 내장함수를 이용해서 지우고 출력하라.\n",
    "\n",
    "str = \" l love python \" # 문자열 정의\n",
    "print(str.strip()) # 내장함수 strip()을 통해 양쪽의 공백 제거 후 출력"
   ]
  },
  {
   "cell_type": "code",
   "execution_count": 92,
   "id": "66ec8981-ac32-4736-b2de-0568dc020eda",
   "metadata": {},
   "outputs": [
    {
     "name": "stdout",
     "output_type": "stream",
     "text": [
      "5050\n"
     ]
    }
   ],
   "source": [
    "## for문을 이용해서 1부터 100까지의 수를 더하고 출력하라.\n",
    "\n",
    "sum = 0 # 덧셈을 위한 변수 초기화\n",
    "for i in range(1, 101) : # 1부터 100까지 더하기 위한 for문\n",
    "    sum = sum + i # sum에 for문의 반복을 통해 순차적으로 더함\n",
    "print(sum) # 1부터 100까지 더해진 sum 출력"
   ]
  },
  {
   "cell_type": "code",
   "execution_count": 93,
   "id": "bdd7cb93-5081-4a5b-b8e9-419bc7e4c25d",
   "metadata": {},
   "outputs": [
    {
     "name": "stdout",
     "output_type": "stream",
     "text": [
      "5050\n"
     ]
    }
   ],
   "source": [
    "## while문을 이용해서 1부터 100까지의 수를 더하고 출력하라.\n",
    "\n",
    "sum = 0 # 덧셈을 위한 변수 초기화\n",
    "i = 1 # 덧셈을 위해 증가분 초기화\n",
    "while i <= 100 : # 1부터 100까지 더하기 위한 while문\n",
    "    sum = sum + i # sum에 for문의 반복을 통해 순차적으로 더함\n",
    "    i = i+1 # i에 1을 더해 계속 반복함\n",
    "print(sum) # 1부터 100까지 더해진 sum 출력"
   ]
  },
  {
   "cell_type": "code",
   "execution_count": 94,
   "id": "cb6777f3-da25-4ec7-8d75-3095e52d4a05",
   "metadata": {},
   "outputs": [
    {
     "name": "stdout",
     "output_type": "stream",
     "text": [
      "1683\n"
     ]
    }
   ],
   "source": [
    "## 1부터 100까지 3의 배수만 더하고 출력하라.\n",
    "\n",
    "sum = 0 # 덧셈을 위한 변수 초기화\n",
    "for i in range(1, 101) : # 1부터 100까지 더하기 위한 for문\n",
    "    if i%3 == 0 : # 3의 배수일 때만 더하기 위해 조건문 사용\n",
    "        sum = sum + i # sum에 for문의 반복을 통해 순차적으로 3의 배수를 더함\n",
    "print(sum) # 1부터 100까지 3의 배수가 더해진 sum 출력"
   ]
  },
  {
   "cell_type": "code",
   "execution_count": 95,
   "id": "0f9fcf1e-d2e0-4dc7-9c10-a33a7ba17e67",
   "metadata": {},
   "outputs": [
    {
     "name": "stdout",
     "output_type": "stream",
     "text": [
      "79.0\n"
     ]
    }
   ],
   "source": [
    "## A학급에는 10명의 학생이 있고, 이 학생들의 중간고사 점수는 다음과 같다. [70, 60, 55, 75, 95, 90, 80, 80, 85, 100]. for문을 사용해서 A학급의 평균 점수를 구하고 출력하라.\n",
    "\n",
    "classScore = [70, 60, 55, 75, 95, 90, 80, 80, 85, 100] # 리스트 정의\n",
    "sum = 0 # 덧셈을 위한 변수 초기화\n",
    "for i in classScore : # classScore의 모든 요소를 더하기 위한 반복문\n",
    "    sum = sum + i # sum에 classScore의 모든 요소를 더함\n",
    "print(sum/len(classScore)) # classSore의 길이, 즉 총 학생수로 나누어 평균 출력"
   ]
  },
  {
   "cell_type": "code",
   "execution_count": 96,
   "id": "3b479505-e58e-4fee-a836-bea533db6b31",
   "metadata": {},
   "outputs": [
    {
     "name": "stdout",
     "output_type": "stream",
     "text": [
      "[2, 6, 10, 40, 90, 100, 2020]\n"
     ]
    }
   ],
   "source": [
    "## 다음과 같은 리스트가 있다. [1, 3, 5, 40, 90, 100, 2020]. for문을 사용해서 홀수에만 2를 곱하고 리스트를 출력하라.\n",
    "\n",
    "li = [1, 3, 5, 40, 90, 100, 2020] # 리스트 정의\n",
    "for i in range(0, len(li)) : # 리스트가 홀수인지 판단하기 위한 반복문\n",
    "    if li[i]%2 == 1 : # i가 홀수인지 판단하는 조건문\n",
    "        li[i] = li[i]*2 # 홀수인 수에 2를 곱한 값으로 재정의\n",
    "print(li) # 다시 리스트 출력"
   ]
  },
  {
   "cell_type": "code",
   "execution_count": 130,
   "id": "99235398-32c1-4073-a9c5-2d6725d5d617",
   "metadata": {},
   "outputs": [
    {
     "name": "stdout",
     "output_type": "stream",
     "text": [
      "*\n",
      "**\n",
      "***\n",
      "****\n",
      "*****\n"
     ]
    }
   ],
   "source": [
    "## for문을 이용해 다음을 출력하라\n",
    "\n",
    "for i in range(1,6) : # 별을 5개까지 출력하기 위한 반복문\n",
    "    for j in range(0, i) : # 각 줄마다의 별 개수를 정하는 반복문\n",
    "        print(\"*\", end=\"\") # 별 출력\n",
    "    print(\"\\n\", end=\"\") # 각 줄의 별 출력이 끝난 후 다음 줄로 넘어감"
   ]
  },
  {
   "cell_type": "code",
   "execution_count": 7,
   "id": "3b23341c-b2f9-40f6-be28-8bec084af1c9",
   "metadata": {},
   "outputs": [
    {
     "name": "stdin",
     "output_type": "stream",
     "text": [
      "input :  85\n"
     ]
    },
    {
     "name": "stdout",
     "output_type": "stream",
     "text": [
      "output :  A\n"
     ]
    }
   ],
   "source": [
    "## 학점산출함수를 만들어라. 학생의 점수를 입력할 수 있고, 점수를 기반으로 학점을 매겨주고 출력해야한다.\n",
    "\n",
    "# 학생 점수 계산 함수\n",
    "def score(a) :\n",
    "    if a >=80 and a <= 100 : # 학생의 점수가 80점에서 100점 사이인 경우\n",
    "        sc = \"A\" # A학점\n",
    "    elif a >=50 and a <= 79 : # 학생의 점수가 50점에서 79점 사이인 경우\n",
    "        sc = \"B\" # B학점\n",
    "    elif a >=30 and a <= 49 : # 학생의 점수가 30점에서 49점 사이인 경우\n",
    "        sc = \"C\" # C학점\n",
    "    elif a >=0 and a <= 29 : # 학생의 점수가 0점에서 29점 사이인 경우\n",
    "        sc = \"F\" # F학점\n",
    "    else : # 예외처리\n",
    "        sc = \"0에서 100 사이의 정수만 점수로 입력해주세요\" # 0점에서 100점 사이가 아닐 경우\n",
    "    return sc # 학점 return\n",
    "\n",
    "# 숫자 검증 함수\n",
    "def isNum(a) :\n",
    "    if a.isdigit() : # 변수가 양의 정수일 때\n",
    "        print(\"output : \", score(int(a))) # 점수 계산 함수 호출\n",
    "    else : # 변수가 양의 정수가 아닐 때\n",
    "        print(\"0에서 100 사이의 숫자만 점수로 입력해주세요\") # 예외 처리 문구 출력 후 종료\n",
    "\n",
    "a = (input(\"input : \")) # 사용자에게 점수를 입력받아 저장\n",
    "isNum(a) # 숫자 검증 함수 호출\n",
    "\n",
    "del a # 추후 int 예약어에서 발생할 수 있는 에러를 방지하기 위해 예약어를 사용한 변수 삭제\n"
   ]
  },
  {
   "cell_type": "code",
   "execution_count": 8,
   "id": "f8081bb7-da2a-4a8f-989e-babf5751b693",
   "metadata": {},
   "outputs": [
    {
     "name": "stdin",
     "output_type": "stream",
     "text": [
      "input :  5\n"
     ]
    },
    {
     "name": "stdout",
     "output_type": "stream",
     "text": [
      "output :  False\n"
     ]
    }
   ],
   "source": [
    "## 짝수 판별 프로그램을 만들어라. 수를 하나 입력할 수 있고, 그 수가 짝수이면 True, 홀수이면 False를 리턴한다.\n",
    "\n",
    "# 짝수 판별 함수\n",
    "def oddOrEven(num) :\n",
    "    if num%2 == 0: # 2로 나누어 나머지가 0이면 짝수\n",
    "        oe = True # True 저장\n",
    "    elif num%2 == 1: # 2로 나누어 나머지가 1이면 홀수\n",
    "        oe = False # False 저장\n",
    "    return oe # 저장된 값 return\n",
    "\n",
    "# 숫자 검증 함수\n",
    "def isNum(a) :\n",
    "    if a.isdigit() : # 변수가 양의 정수일 때\n",
    "        print(\"output : \", oddOrEven(int(a))) # 짝수 판별 함수 호출\n",
    "    else : # 변수가 양의 정수가 아닐 때\n",
    "        print(\"양수의 정수만 입력해주세요\") # 예외 처리 문구 출력 후 종료\n",
    "\n",
    "num = input(\"input : \") # 사용자에게 숫자를 입력받아 저장\n",
    "isNum(num) # 숫자 검증 함수 호출\n"
   ]
  },
  {
   "cell_type": "code",
   "execution_count": 9,
   "id": "d5876de1-4837-49d6-a912-c3c6ba6d20f1",
   "metadata": {},
   "outputs": [
    {
     "name": "stdin",
     "output_type": "stream",
     "text": [
      "input :  990304-2234567\n"
     ]
    },
    {
     "name": "stdout",
     "output_type": "stream",
     "text": [
      "output : 99년생, 여자\n"
     ]
    }
   ],
   "source": [
    "## 주민등록번호 판별 프로그램을 만들어라. 주민등록번호를 입력할 수 있고, 그 번호를 통해 몇년생인지, 그리고 남자 인지 여자인지를 판별하고 출력해야한다.\n",
    "\n",
    "# 주민등록번호 판별 함수\n",
    "def jumin(num) : \n",
    "    \n",
    "    # 형식 판별\n",
    "    if '-' in num : # -가 포함되어 있는지 검사\n",
    "        ju = num.split('-') # 포함되어 있으면 -를 기준으로 split\n",
    "    else : # 예외처리\n",
    "        print(\"주민등록번호 입력 형식을 다시 확인해주세요.\") # 예외 처리 문구 출력\n",
    "        return # 종료\n",
    "    \n",
    "    # 숫자 판별\n",
    "    if isNum(ju[0], ju[1]) : # 숫자이면서 자릿수가 맞는지 판별하는 함수 호출\n",
    "        str1 = ju[0] # -를 기준으로 split한 리스트 중 0번째를 저장\n",
    "        age = str1[0:2] # 년도 저장\n",
    "\n",
    "        str2 = ju[1] # -를 기준으로 split한 리스트 중 1번째를 저장\n",
    "        gen = int(str2[0:1]) # 주민등록번호 뒷자리 중 첫번째 숫자만 가져와 성별 판별을 위한 형변환 진행\n",
    "        if gen==1 or gen==3 : # 1이나 3일 경우 남성\n",
    "            gender = \"남자\" # 남성으로 저장\n",
    "            print(\"output : {}년생, {}\".format(age, gender)) # format을 통해 출생년도와 성별 출력\n",
    "        elif gen==2 or gen==4 : # 2나 4일 경우 남성\n",
    "            gender = \"여자\" # 여성으로 저장\n",
    "            print(\"output : {}년생, {}\".format(age, gender)) # format을 통해 출생년도와 성별 출력\n",
    "        else : # 예외처리\n",
    "            print(\"주민등록번호를 다시 확인해주세요.\") # 예외 처리 문구 출력 후 종료\n",
    "\n",
    "# 숫자와 자릿수 검증 함수\n",
    "def isNum(a, b) :\n",
    "    if a.isdigit() and b.isdigit() and len(a)==6 and len(b)==7: # 숫자가 맞으면서 자릿수도 맞는지 검증\n",
    "        return True # True를 return하여 jumin 함수의 if문을 실행하도록 설정\n",
    "    else : # 예외처리\n",
    "        print(\"주민등록번호를 다시 확인해주세요.\") # 예외 처리 문구 출력\n",
    "        return False # False를 return하여 jumin 함수의 if문을 실행하지 않도록 설정\n",
    "\n",
    "num = input(\"input : \") # 사용자에게 주민등록번호를 입력받아 저장\n",
    "jumin(num) # jumin 함수 호출\n"
   ]
  },
  {
   "cell_type": "code",
   "execution_count": 10,
   "id": "df648a92-b699-491b-a234-943672238614",
   "metadata": {},
   "outputs": [
    {
     "name": "stdin",
     "output_type": "stream",
     "text": [
      "input :  40\n",
      " -\n",
      " 90\n"
     ]
    },
    {
     "name": "stdout",
     "output_type": "stream",
     "text": [
      "output :  -50\n"
     ]
    }
   ],
   "source": [
    "## 간단한 계산기 함수를 만들어라. 사칙연산과 나머지 연산이 되어야한다.\n",
    "\n",
    "# 계산 함수\n",
    "def cal(num1, op, num2) :\n",
    "    if op == '+': # 덧셈 계산\n",
    "        return num1+num2 # 더하기 후 return\n",
    "    elif op == '-': # 뺄셈 계산\n",
    "        return num1-num2 # 뺄셈 후 return\n",
    "    elif op == '*': # 곱셈 계산\n",
    "        return num1*num2 # 곱셈 후 return\n",
    "    elif op == '/': # 나눗셈 계산\n",
    "        if isDivideCheck(num2) : # 분모가 0인 경우를 검사하는 함수 호출\n",
    "            return num1/num2 # 나눗셈 후 return\n",
    "        else : # 분모가 0일 경우 예외처리\n",
    "            return \"분모는 0이 될 수 없습니다\" # 예외처리 문구 return\n",
    "    elif op == '%': # 나머지 계산\n",
    "        if isDivideCheck(num2) : # 분모가 0인 경우를 검사하는 함수 호출\n",
    "            return num1%num2 # 나머지 return\n",
    "        else : # 분모가 0일 경우 예외처리\n",
    "            return \"분모는 0이 될 수 없습니다\" # 예외처리 문구 return\n",
    "    else : # 연산기호가 사칙연산과 나머지 연산에 포함되지 않는 경우 예외처리\n",
    "        return \"연산기호를 확인해주세요.\" # 예외처리 문구 return\n",
    "\n",
    "# 숫자 검증 후 계산 함수를 호출하는 함수\n",
    "def isNum(num1, op, num2) :\n",
    "    if isNumCheck(num1) and isNumCheck(num2) : # 숫자 검증\n",
    "        print(\"output : \", cal(int(num1), op, int(num2))) # 계산 함수 호출\n",
    "    else : # 예외처리\n",
    "        print(\"입력한 값을 확인해주세요.\") # 예외 처리 문구 출력\n",
    "\n",
    "# 숫자인지 검증하는 함수\n",
    "def isNumCheck(num) :\n",
    "    if num[0] == \"-\" or num[0] == \"+\" : # 기호가 있을 경우\n",
    "        return num[1:].isdigit() # 기호를 제외한 나머지를 검증 한 후 return\n",
    "    else : # 기호가 없을 경우\n",
    "        return num.isdigit() # 숫자 전체를 검증한 후 return\n",
    "\n",
    "# 분모가 0인지 검증하는 함수\n",
    "def isDivideCheck(num) :\n",
    "    if num == 0 : # 분모가 0인 경우\n",
    "        return False # False를 return하여 cal 함수에서 예외처리를 할 수 있도록 설정\n",
    "    else : # 분모가 0이 아닌 경우\n",
    "        return True # True를 return하여 cal 함수에서 연산을 할 수 있도록 설정\n",
    "\n",
    "num1 = input(\"input : \") # 사용자에게 첫번째 숫자를 입력받아 저장\n",
    "op = input() # 사용자에게 연산기호를 입력받아 저장\n",
    "num2 = input() # 사용자에게 두번째 숫자를 입력받아 저장\n",
    "isNum(num1, op, num2) # 함수 호출"
   ]
  },
  {
   "cell_type": "code",
   "execution_count": 11,
   "id": "7b17f10b-967e-4221-ad6b-bb9fe30d2677",
   "metadata": {},
   "outputs": [
    {
     "name": "stdin",
     "output_type": "stream",
     "text": [
      "input :  6890\n"
     ]
    },
    {
     "name": "stdout",
     "output_type": "stream",
     "text": [
      "output : 5000원 : 1개\n",
      "1000원 : 1개\n",
      "500원 : 1개\n",
      "100원 : 3개\n",
      "50원 : 1개\n",
      "10원 : 4개\n"
     ]
    }
   ],
   "source": [
    "## 거스름돈 함수를 만들어라. 금액을 입력하면 거스름돈을 출력해야한다.\n",
    "\n",
    "# 거스름돈 계산 함수\n",
    "def change(num) :\n",
    "    dol = [50000, 10000, 5000, 1000, 500, 100, 50, 10] # 대한민국 화폐 단위 저장\n",
    "    ex = num # 거스름돈 저장\n",
    "    print(\"output : \", end=\"\") # output 폼 출력\n",
    "    if ex > dol[0] : # 5만원보다 큰 금액인 경우\n",
    "        divide = int(ex/dol[0]) # 거스름돈을 5만원으로 나눈 값을 정수형으로 저장\n",
    "        print(\"{}원 : {}개\".format(dol[0], divide)) # 화폐 단위와 개수 출력\n",
    "        ex = ex-dol[0]*divide # 화폐단위와 개수를 곱한 값을 거스름돈에서 차감하여 남은 금액은 다시 거스름 계산을 할 수 있도록 설정\n",
    "    for i in range(0, len(dol)-1) : # 5만원보다 작은 금액인 경우\n",
    "        if ex >=dol[i+1] and ex <= dol[i] : # 사이 금액인 경우\n",
    "            divide = int(ex/dol[i+1]) # 거스름돈을 화폐단위로 나눈 값을 정수형으로 저장\n",
    "            print(\"{}원 : {}개\".format(dol[i+1], divide)) # 화폐 단위와 개수 출력\n",
    "            ex = ex-dol[i+1]*divide # 화폐단위와 개수를 곱한 값을 거스름돈에서 차감하여 남은 금액은 다시 거스름 계산을 할 수 있도록 설정\n",
    "    if ex > 0 : # 거스름돈을 모두 계산하고 남은 금액\n",
    "        print(\"나머지 : {}원\".format(ex)) # 나머지 금액 출력\n",
    "\n",
    "# 숫자 검증 함수\n",
    "def isNum(a) :\n",
    "    if a.isdigit() : # 숫자인지 검증\n",
    "        change(int(a)) # 거스름돈 계산 함수 호출\n",
    "    else : # 예외 처리\n",
    "        print(\"쉼표 없이 양수의 정수만 가격으로 입력해주세요\") # 예외 처리 문구 출력 후 종료\n",
    "\n",
    "num = input(\"input : \") # 사용자에게 거스름돈을 입력받아 저장\n",
    "isNum(num) # 함수 호출"
   ]
  },
  {
   "cell_type": "code",
   "execution_count": 12,
   "id": "e7c87481-db98-4c9a-b699-5cee4e9d1527",
   "metadata": {},
   "outputs": [
    {
     "name": "stdin",
     "output_type": "stream",
     "text": [
      "input :  2x^2+2x-2\n"
     ]
    },
    {
     "name": "stdout",
     "output_type": "stream",
     "text": [
      "output : x1 = -1.618, x2 = 0.618\n"
     ]
    }
   ],
   "source": [
    "## 이차방정식의 근을 구하는 함수를 만들어라.\n",
    "## 제곱근은 파이썬 내장 모듈인 math 모듈을 통해 이용할 수 있다.\n",
    "\n",
    "import math\n",
    "\n",
    "# 계산 함수\n",
    "def queadratic_formula(a,b,c):\n",
    "    D = (b**2) - (4*a*c)\n",
    "    \n",
    "    print(\"output : \", end=\"\")\n",
    "    \n",
    "    if D>0 :\n",
    "        x1 = (-b + D**0.5) / (2*a)\n",
    "        x2 = (-b - D**0.5) / (2*a)\n",
    "        if x1 > x2 :\n",
    "            temp = x1\n",
    "            x1 = x2\n",
    "            x2 = temp\n",
    "        print(\"x1 = {}, x2 = {}\".format(round(x1, 3),round(x2, 3)))\n",
    "    elif D==0 :\n",
    "        x = -b / 2*a\n",
    "        print(\"x = {}\".format(round(x, 3)))\n",
    "    else :\n",
    "        print(\"존재하지 않음\")\n",
    "\n",
    "def isNumCheck(num) :\n",
    "    if num[0] == \"-\" or num[0] == \"+\" :\n",
    "        return num[1:].isdigit()\n",
    "    else :\n",
    "        return num.isdigit()\n",
    "        \n",
    "# input 예외처리 함수\n",
    "def excep(qu) :\n",
    "    # 형식 검사\n",
    "    quList = qu.split('x')\n",
    "    \n",
    "    if len(quList) > 3 :\n",
    "        print(\"이차원방정식의 형식을 다시 확인해주세요. 변수는 x만 가능합니다.\")\n",
    "    elif len(quList) == 1 :\n",
    "        print(\"이차원방정식의 형식을 다시 확인해주세요.\")\n",
    "    else :\n",
    "        if len(quList) == 3 :\n",
    "            a = quList[0]\n",
    "            if quList[1].find('^2') == -1 :\n",
    "                return \"이차방정식을 입력해주세요.\"\n",
    "            temp = quList[1].split('^2')\n",
    "            b = temp[1]\n",
    "            c = quList[2]\n",
    "            \n",
    "            # validation\n",
    "            if a == '0' :\n",
    "                print(\"a는 0이 될 수 없습니다\")\n",
    "            elif a == '' and b == '' and c == '' :\n",
    "                queadratic_formula(1, 0, 0)\n",
    "            elif a == '' and b == '' :\n",
    "                if isNumCheck(c) :\n",
    "                    queadratic_formula(1, 0, int(c))\n",
    "            elif a == '' and c == '' :\n",
    "                if isNumCheck(b) :\n",
    "                    queadratic_formula(1, int(b), 0)\n",
    "            elif b == '' and c == '':\n",
    "                if isNumCheck(a) :\n",
    "                    queadratic_formula(int(a), 0, 0)\n",
    "            elif a == '' :\n",
    "                if isNumCheck(b) and isNumCheck(c) :\n",
    "                    queadratic_formula(1, int(b), int(c))\n",
    "            elif b == '' :\n",
    "                if isNumCheck(a) and isNumCheck(b) :\n",
    "                    queadratic_formula(int(a), 0, c)\n",
    "            elif c == '' :\n",
    "                if isNumCheck(a) and isNumCheck(b) :\n",
    "                    queadratic_formula(int(a), int(b), 0)\n",
    "            elif isNumCheck(a) and isNumCheck(b) and isNumCheck(c) :\n",
    "                queadratic_formula(int(a), int(b), int(c))\n",
    "            else :\n",
    "                print(\"이차원방정식의 형식을 다시 확인해주세요.\")\n",
    "                \n",
    "        elif len(quList) == 2 :\n",
    "            a = quList[0]\n",
    "            if quList[1].find('^2') == -1 :\n",
    "                return \"이차방정식을 입력해주세요.\"\n",
    "            temp = quList[1].split('^2')\n",
    "            b = temp[1]\n",
    "            \n",
    "            # validation\n",
    "            if a == '0' :\n",
    "                print(\"a는 0이 될 수 없습니다\")\n",
    "            elif a == '' and b != '' :\n",
    "                if isNumCheck(b) :\n",
    "                    queadratic_formula(1, 0, int(b))\n",
    "                else :\n",
    "                    print(\"변수 앞에는 정수만 입력할 수 있습니다\")\n",
    "            elif a == '' and b == '' :\n",
    "                queadratic_formula(1, 0, 0)\n",
    "            elif a != '' and b == '' :\n",
    "                if isNumCheck(a) :\n",
    "                    queadratic_formula(int(a), 0, 0)\n",
    "                else :\n",
    "                    print(\"변수 앞에는 정수만 입력할 수 있습니다\")\n",
    "            elif a != '' and b != '' :\n",
    "                if isNumCheck(a) and isNumCheck(b) :\n",
    "                    queadratic_formula(int(a), 0, int(b))\n",
    "                else :\n",
    "                    print(\"변수 앞에는 정수만 입력할 수 있습니다\")\n",
    "\n",
    "qu = input(\"input : \")\n",
    "excep(qu)"
   ]
  }
 ],
 "metadata": {
  "kernelspec": {
   "display_name": "Python 3",
   "language": "python",
   "name": "python3"
  },
  "language_info": {
   "codemirror_mode": {
    "name": "ipython",
    "version": 3
   },
   "file_extension": ".py",
   "mimetype": "text/x-python",
   "name": "python",
   "nbconvert_exporter": "python",
   "pygments_lexer": "ipython3",
   "version": "3.8.8"
  }
 },
 "nbformat": 4,
 "nbformat_minor": 5
}
