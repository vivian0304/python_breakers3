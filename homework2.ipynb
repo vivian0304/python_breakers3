{
 "cells": [
  {
   "cell_type": "code",
   "execution_count": 20,
   "id": "1aaa2b04-4f84-4250-8605-ee5ef568120d",
   "metadata": {},
   "outputs": [
    {
     "name": "stdout",
     "output_type": "stream",
     "text": [
      "output : \n",
      "[1, 10, 11, 29, 36, 41]\n"
     ]
    }
   ],
   "source": [
    "# 로또 번호 생성기 함수를 만들어라. 정렬까지 포함할 것.\n",
    "\n",
    "import random #랜덤으로 숫자를 추출하기 위해 random을 import\n",
    "\n",
    "# 로또 번호 생성 function\n",
    "def lotto() :\n",
    "    a = sorted(random.sample(range(1,45),6)) # 1부터 45까지의 숫자 중 중복없이 6개의 숫자를 추출하여 순서대로 정렬\n",
    "    print('output : ') # output form\n",
    "    print(a) # 로또 번호 출력\n",
    "\n",
    "lotto() # 로또 번호 생성 function 호출"
   ]
  },
  {
   "cell_type": "code",
   "execution_count": 21,
   "id": "c53293db-d3c4-4b55-81c8-63143a94de26",
   "metadata": {},
   "outputs": [
    {
     "name": "stdin",
     "output_type": "stream",
     "text": [
      "input :  박수현\n"
     ]
    },
    {
     "name": "stdout",
     "output_type": "stream",
     "text": [
      "output : \n",
      "문자의 개수 :  3\n",
      "가장 큰 문자열 :  현\n",
      "뒤집은 문자열 현수박\n"
     ]
    }
   ],
   "source": [
    "# 다음과 같이 문자열을 분석하는 함수를 만들어라. 반드시 내장함수를 이용하라\n",
    "\n",
    "# 문자열 분석 function\n",
    "def strInfo() :\n",
    "    a = input(\"input : \") # input form\n",
    "    print('output : ') # output form\n",
    "    print('문자의 개수 : ',len(a)) # 내장함수인 len을 사용해 문자 개수 출력\n",
    "    print('가장 큰 문자열 : ',max(a)) # 내장함수인 max를 사용해 가장 큰 문자열 출력\n",
    "    print('뒤집은 문자열', ''.join(reversed(a))) # 내장함수인 join과 reversed를 통해 뒤집은 문자열 출력\n",
    "    \n",
    "strInfo() # 문자열 분석 function 호출"
   ]
  },
  {
   "cell_type": "code",
   "execution_count": 22,
   "id": "55cd031a-103d-4747-8352-be3362a059c6",
   "metadata": {},
   "outputs": [
    {
     "name": "stdout",
     "output_type": "stream",
     "text": [
      "현재 :  2021 년 8 월 23 일  22 시 39 분 13 초\n",
      "미래 :  2021 년 10 월 11 일  23 시 47 분 20 초\n"
     ]
    }
   ],
   "source": [
    "# 내장함수와 datetime라이브러리를 이용하여 지금을 출력하고, 49일 1시간 8분 7초 후가 언제인지 출력하는 함수를 만들어라.\n",
    "\n",
    "import datetime # datetime 라이브러리 이용을 위한 import\n",
    "\n",
    "# 시간 출력 function\n",
    "def dateCal() :\n",
    "    now = datetime.datetime.now() # datetime에 있는 datetime의 now()를 이용해 현재 시간 호출\n",
    "    print('현재 : ',now.year,'년',now.month,'월',now.day,'일 ',now.hour,'시',now.minute,'분',now.second,'초') # 시간 출력 form\n",
    "\n",
    "    future = now + datetime.timedelta(days=49, hours=1, minutes=8, seconds=7) # datetime의 timedelta를 이용해 49일 1시간 8분 7초 후의 시간 계산\n",
    "    print('미래 : ', future.year,'년',future.month,'월',future.day,'일 ',future.hour,'시',future.minute,'분',future.second,'초') # 시간 출력 form\n",
    "\n",
    "dateCal() # 시간 출력 function 호출"
   ]
  },
  {
   "cell_type": "code",
   "execution_count": 26,
   "id": "005a53d5-22d8-4632-90e3-475657e485de",
   "metadata": {},
   "outputs": [
    {
     "name": "stdin",
     "output_type": "stream",
     "text": [
      "input :  vivian0304@naver.com\n"
     ]
    },
    {
     "name": "stdout",
     "output_type": "stream",
     "text": [
      "output : 올바른 형식입니다.\n"
     ]
    }
   ],
   "source": [
    "# 정규표현식을 이용하여 이메일을 입력받으면 주어진 메일이 올바른 형식인지 파악하는 함수를 만들어라.\n",
    "# 계정은 반드시 가장 앞에 나타나며 한 가지 이상의 문자로 표현되며, \n",
    "#           영어 소문자와 대문자, 숫자, +, -, _, .의 특수문자만 포함될 수 있다. (플러스, 마이너스, 언더바, 닷)\n",
    "\n",
    "import re # 정규표현식 사용을 위한 import\n",
    "\n",
    "# 이메일 형식 Validation function\n",
    "def emailConfirm() :\n",
    "    email = input('input : ') # input form\n",
    "    \n",
    "    p = re.match('^[a-zA-Z0-9+-_.]+@[a-zA-Z0-9+-_.]+\\.[a-zA-Z0-9]+$', email) # 정규표현식을 이용한 Validation 진행\n",
    "    \n",
    "    print('output : ', end='') # output form\n",
    "    \n",
    "    if p : # 올바른 형식일 경우\n",
    "        print('올바른 형식입니다.') # 출력 form\n",
    "    else : # 올바르지 않은 형식일 경우\n",
    "        print('올바르지 않은 형식입니다.') # 출력 form\n",
    "        \n",
    "emailConfirm() # 이메일 형식 Validation function 호출"
   ]
  },
  {
   "cell_type": "code",
   "execution_count": 18,
   "id": "bf2705ff-97a1-4216-bef2-87a9a1352320",
   "metadata": {},
   "outputs": [
    {
     "name": "stdout",
     "output_type": "stream",
     "text": [
      "메뉴를 선택해주세요\n",
      "1. 입력\n",
      "2. 전체출력\n",
      "3. 영어로 검색\n",
      "4. 한글로 검색\n",
      "5. 종료\n",
      "\n"
     ]
    },
    {
     "name": "stdin",
     "output_type": "stream",
     "text": [
      "input :  1\n"
     ]
    },
    {
     "name": "stdout",
     "output_type": "stream",
     "text": [
      "입력을 선택하셨습니다.\n",
      "영단어 : 한글단어 쌍으로 입력해주시고, 끝났다면 나가기를 입력해주세요\n",
      "input : \n"
     ]
    },
    {
     "name": "stdin",
     "output_type": "stream",
     "text": [
      " apple:사과\n",
      " 나가기\n"
     ]
    },
    {
     "name": "stdout",
     "output_type": "stream",
     "text": [
      "\n",
      "메뉴를 선택해주세요\n",
      "1. 입력\n",
      "2. 전체출력\n",
      "3. 영어로 검색\n",
      "4. 한글로 검색\n",
      "5. 종료\n",
      "\n"
     ]
    },
    {
     "name": "stdin",
     "output_type": "stream",
     "text": [
      "input :  영어로검색\n"
     ]
    },
    {
     "name": "stdout",
     "output_type": "stream",
     "text": [
      "영어로 검색을 선택하셨습니다.\n",
      "영단어를 입력하세요.\n"
     ]
    },
    {
     "name": "stdin",
     "output_type": "stream",
     "text": [
      "input :  apple\n"
     ]
    },
    {
     "name": "stdout",
     "output_type": "stream",
     "text": [
      "사과\n",
      "계속 검색 가능합니다.\n",
      "나가시려면 나가기를 입력해주세요.\n",
      "\n"
     ]
    },
    {
     "name": "stdin",
     "output_type": "stream",
     "text": [
      "input :  나가기\n"
     ]
    },
    {
     "name": "stdout",
     "output_type": "stream",
     "text": [
      "\n",
      "메뉴를 선택해주세요\n",
      "1. 입력\n",
      "2. 전체출력\n",
      "3. 영어로 검색\n",
      "4. 한글로 검색\n",
      "5. 종료\n",
      "\n"
     ]
    },
    {
     "name": "stdin",
     "output_type": "stream",
     "text": [
      "input :  4\n"
     ]
    },
    {
     "name": "stdout",
     "output_type": "stream",
     "text": [
      "한글로 검색을 선택하셨습니다.\n",
      "뜻을 입력하세요.\n"
     ]
    },
    {
     "name": "stdin",
     "output_type": "stream",
     "text": [
      "input :  ㄴ\n"
     ]
    },
    {
     "name": "stdout",
     "output_type": "stream",
     "text": [
      "찾을 수 없습니다.\n",
      "계속 검색 가능합니다.\n",
      "나가시려면 나가기를 입력해주세요.\n",
      "\n"
     ]
    },
    {
     "name": "stdin",
     "output_type": "stream",
     "text": [
      "input :  사과\n"
     ]
    },
    {
     "name": "stdout",
     "output_type": "stream",
     "text": [
      "apple\n",
      "계속 검색 가능합니다.\n",
      "나가시려면 나가기를 입력해주세요.\n",
      "\n"
     ]
    },
    {
     "name": "stdin",
     "output_type": "stream",
     "text": [
      "input :  사거ㅏ\n"
     ]
    },
    {
     "name": "stdout",
     "output_type": "stream",
     "text": [
      "찾을 수 없습니다.\n",
      "계속 검색 가능합니다.\n",
      "나가시려면 나가기를 입력해주세요.\n",
      "\n"
     ]
    },
    {
     "name": "stdin",
     "output_type": "stream",
     "text": [
      "input :  사과\n"
     ]
    },
    {
     "name": "stdout",
     "output_type": "stream",
     "text": [
      "apple\n",
      "계속 검색 가능합니다.\n",
      "나가시려면 나가기를 입력해주세요.\n",
      "\n"
     ]
    },
    {
     "name": "stdin",
     "output_type": "stream",
     "text": [
      "input :  s\n"
     ]
    },
    {
     "name": "stdout",
     "output_type": "stream",
     "text": [
      "한글로 정확히 입력해주세요.\n",
      "계속 검색 가능합니다.\n",
      "나가시려면 나가기를 입력해주세요.\n",
      "\n"
     ]
    },
    {
     "name": "stdin",
     "output_type": "stream",
     "text": [
      "input :  나가기\n"
     ]
    },
    {
     "name": "stdout",
     "output_type": "stream",
     "text": [
      "\n",
      "메뉴를 선택해주세요\n",
      "1. 입력\n",
      "2. 전체출력\n",
      "3. 영어로 검색\n",
      "4. 한글로 검색\n",
      "5. 종료\n",
      "\n"
     ]
    },
    {
     "name": "stdin",
     "output_type": "stream",
     "text": [
      "input :  1\n"
     ]
    },
    {
     "name": "stdout",
     "output_type": "stream",
     "text": [
      "입력을 선택하셨습니다.\n",
      "영단어 : 한글단어 쌍으로 입력해주시고, 끝났다면 나가기를 입력해주세요\n",
      "input : \n"
     ]
    },
    {
     "name": "stdin",
     "output_type": "stream",
     "text": [
      " watermelon\n"
     ]
    },
    {
     "name": "stdout",
     "output_type": "stream",
     "text": [
      "입력 방식을 확인하고, 공백 없이 다시 입력해주세요\n"
     ]
    },
    {
     "name": "stdin",
     "output_type": "stream",
     "text": [
      " watermelon:수박\n",
      " melon:멜론\n",
      " cherry:체리\n",
      " corn:옥수수\n",
      " 나가기\n"
     ]
    },
    {
     "name": "stdout",
     "output_type": "stream",
     "text": [
      "\n",
      "메뉴를 선택해주세요\n",
      "1. 입력\n",
      "2. 전체출력\n",
      "3. 영어로 검색\n",
      "4. 한글로 검색\n",
      "5. 종료\n",
      "\n"
     ]
    },
    {
     "name": "stdin",
     "output_type": "stream",
     "text": [
      "input :  2\n"
     ]
    },
    {
     "name": "stdout",
     "output_type": "stream",
     "text": [
      "전체출력 결과입니다.\n",
      "apple : 사과\n",
      "watermelon : 수박\n",
      "melon : 멜론\n",
      "cherry : 체리\n",
      "corn : 옥수수\n",
      "\n",
      "메뉴를 선택해주세요\n",
      "1. 입력\n",
      "2. 전체출력\n",
      "3. 영어로 검색\n",
      "4. 한글로 검색\n",
      "5. 종료\n",
      "\n"
     ]
    },
    {
     "name": "stdin",
     "output_type": "stream",
     "text": [
      "input :  1\n"
     ]
    },
    {
     "name": "stdout",
     "output_type": "stream",
     "text": [
      "입력을 선택하셨습니다.\n",
      "영단어 : 한글단어 쌍으로 입력해주시고, 끝났다면 나가기를 입력해주세요\n",
      "input : \n"
     ]
    },
    {
     "name": "stdin",
     "output_type": "stream",
     "text": [
      " banana:바나나\n",
      " 나가기\n"
     ]
    },
    {
     "name": "stdout",
     "output_type": "stream",
     "text": [
      "\n",
      "메뉴를 선택해주세요\n",
      "1. 입력\n",
      "2. 전체출력\n",
      "3. 영어로 검색\n",
      "4. 한글로 검색\n",
      "5. 종료\n",
      "\n"
     ]
    },
    {
     "name": "stdin",
     "output_type": "stream",
     "text": [
      "input :  4\n"
     ]
    },
    {
     "name": "stdout",
     "output_type": "stream",
     "text": [
      "한글로 검색을 선택하셨습니다.\n",
      "뜻을 입력하세요.\n"
     ]
    },
    {
     "name": "stdin",
     "output_type": "stream",
     "text": [
      "input :  바나나\n"
     ]
    },
    {
     "name": "stdout",
     "output_type": "stream",
     "text": [
      "banana\n",
      "계속 검색 가능합니다.\n",
      "나가시려면 나가기를 입력해주세요.\n",
      "\n"
     ]
    },
    {
     "name": "stdin",
     "output_type": "stream",
     "text": [
      "input :  사과\n"
     ]
    },
    {
     "name": "stdout",
     "output_type": "stream",
     "text": [
      "apple\n",
      "계속 검색 가능합니다.\n",
      "나가시려면 나가기를 입력해주세요.\n",
      "\n"
     ]
    },
    {
     "name": "stdin",
     "output_type": "stream",
     "text": [
      "input :  수박 \n"
     ]
    },
    {
     "name": "stdout",
     "output_type": "stream",
     "text": [
      "watermelon\n",
      "계속 검색 가능합니다.\n",
      "나가시려면 나가기를 입력해주세요.\n",
      "\n"
     ]
    },
    {
     "name": "stdin",
     "output_type": "stream",
     "text": [
      "input :  옥수수\n"
     ]
    },
    {
     "name": "stdout",
     "output_type": "stream",
     "text": [
      "corn\n",
      "계속 검색 가능합니다.\n",
      "나가시려면 나가기를 입력해주세요.\n",
      "\n"
     ]
    },
    {
     "name": "stdin",
     "output_type": "stream",
     "text": [
      "input :  나가기\n"
     ]
    },
    {
     "name": "stdout",
     "output_type": "stream",
     "text": [
      "\n",
      "메뉴를 선택해주세요\n",
      "1. 입력\n",
      "2. 전체출력\n",
      "3. 영어로 검색\n",
      "4. 한글로 검색\n",
      "5. 종료\n",
      "\n"
     ]
    },
    {
     "name": "stdin",
     "output_type": "stream",
     "text": [
      "input :  종료\n"
     ]
    },
    {
     "name": "stdout",
     "output_type": "stream",
     "text": [
      "사전을 종료합니다!\n",
      "\n"
     ]
    }
   ],
   "source": [
    "# 영한사전 프로그램을 만들어라. Dictionary 자료구조를 이용해야 하며 다음의 기능이 포함된다.\n",
    "\n",
    "import re # 정규표현식 사용을 위한 import\n",
    "\n",
    "mydic = {} # 딕셔너리 사용을 위한 초기화\n",
    "\n",
    "# 메뉴 출력 function\n",
    "def enToKoDic() :\n",
    "    choice = '' # input str 초기화\n",
    "    \n",
    "    while choice != '5' and choice != '종료' : # 사용자가 종료 혹은 5를 입력하기 전까지 반복\n",
    "        menu = ['메뉴를 선택해주세요', '1. 입력', '2. 전체출력', '3. 영어로 검색', '4. 한글로 검색', '5. 종료'] # 메뉴를 list로 관리\n",
    "        \n",
    "        for i in range(0, len(menu)) : # 메뉴 list 반복\n",
    "            print(menu[i]) # 메뉴 list 출력\n",
    "        print() # 가시성을 위한 \\n\n",
    "        choice = input('input : ') # 메뉴 input form\n",
    "        menuChoice(choice) # 메뉴 Validation function 호출\n",
    "        print() # 가시성을 위한 \\n\n",
    "\n",
    "# 메뉴 Validation function\n",
    "def menuChoice(choice) :\n",
    "    if choice == '입력' or choice == '1' : # 입력 혹은 1을 입력한 경우\n",
    "        print('입력을 선택하셨습니다.')\n",
    "        print('영단어 : 한글단어 쌍으로 입력해주시고, 끝났다면 나가기를 입력해주세요')\n",
    "        dicInput() # input function 호출\n",
    "    elif choice == '전체출력' or choice == '2' :  # 전체출력 혹은 2를 입력한 경우\n",
    "        print('전체출력 결과입니다.')\n",
    "        printDic() # print function 호출\n",
    "    elif choice == '영어로 검색' or choice == '영어로검색' or choice == '3' :  # 영어로 검색 혹은 3을 입력한 경우\n",
    "        print('영어로 검색을 선택하셨습니다.')\n",
    "        print('영단어를 입력하세요.')\n",
    "        enSearch() # english search function 호출\n",
    "    elif choice == '한글로 검색' or choice == '한글로검색' or choice == '4' :  # 한글로 검색 혹은 4을 입력한 경우\n",
    "        print('한글로 검색을 선택하셨습니다.')\n",
    "        print('뜻을 입력하세요.')\n",
    "        koSearch() # korean search function 호출\n",
    "    elif choice == '종료' or choice == '5' :  # 종료 혹은 5를 입력한 경우\n",
    "        print('사전을 종료합니다!')\n",
    "    else : # 메뉴에 속해있지 않은 문자열을 입력한 경우\n",
    "        print('다시 입력해주세요!')\n",
    "\n",
    "# input function\n",
    "def dicInput() :\n",
    "    print(\"input : \")\n",
    "    dicStr = ''\n",
    "    i = 0\n",
    "    while True :\n",
    "        dicStr = input()\n",
    "        i += 1\n",
    "        \n",
    "        p = re.match('^[a-zA-Z]+:[\\u3131-\\u3163\\uac00-\\ud7a3]+', dicStr) # 정규표현식을 활용한 input validation\n",
    "        \n",
    "        if p :\n",
    "            kv = dicStr.split(':')\n",
    "            mydic[kv[0].strip()] = kv[1].strip()\n",
    "        elif dicStr == '나가기' :\n",
    "            return mydic\n",
    "        else :\n",
    "            print('입력 방식을 확인하고, 공백 없이 다시 입력해주세요')\n",
    "\n",
    "# print function\n",
    "def printDic() :\n",
    "    for key, value in mydic.items() : \n",
    "        print(key,':',value)\n",
    "\n",
    "# english search function\n",
    "def enSearch() :\n",
    "    enInput = ''\n",
    "    \n",
    "    while True :\n",
    "        matchCount = 0\n",
    "        enInput = input(\"input : \")\n",
    "\n",
    "        p = re.match('^[a-zA-Z\\s]+', enInput) # 정규표현식을 활용한 input validation\n",
    "\n",
    "        if p :\n",
    "            for key, value in mydic.items():\n",
    "                if enInput.strip() == key :\n",
    "                    print(value)\n",
    "                    matchCount = 1\n",
    "            if matchCount < 1 :\n",
    "                print('찾을 수 없습니다.')\n",
    "        elif enInput == '나가기' :\n",
    "            return 0\n",
    "        else :\n",
    "            print('영어로 정확히 입력해주세요.')\n",
    "        print('계속 검색 가능합니다.')\n",
    "        print('나가시려면 나가기를 입력해주세요.')\n",
    "        print()\n",
    "\n",
    "# korean search function\n",
    "def koSearch() :\n",
    "    koInput = ''\n",
    "    \n",
    "    while True :\n",
    "        matchCount = 0\n",
    "        koInput = input(\"input : \")\n",
    "\n",
    "        p = re.match('^[\\u3131-\\u3163\\uac00-\\ud7a3\\s]+', koInput) # 정규표현식을 활용한 input validation\n",
    "        \n",
    "        if koInput == '나가기' :\n",
    "            return 0\n",
    "        elif p :\n",
    "            for key, value in mydic.items():\n",
    "                if koInput.strip() == value :\n",
    "                    print(key)\n",
    "                    matchCount = 1\n",
    "            if matchCount < 1 :\n",
    "                print('찾을 수 없습니다.')\n",
    "        else :\n",
    "            print('한글로 정확히 입력해주세요.')\n",
    "        print('계속 검색 가능합니다.')\n",
    "        print('나가시려면 나가기를 입력해주세요.')\n",
    "        print()\n",
    "\n",
    "enToKoDic() # 메뉴 출력 function 호출"
   ]
  },
  {
   "cell_type": "code",
   "execution_count": null,
   "id": "33cb07b2-bd00-4641-b9d5-e61f64b7f83d",
   "metadata": {},
   "outputs": [],
   "source": []
  }
 ],
 "metadata": {
  "kernelspec": {
   "display_name": "Python 3",
   "language": "python",
   "name": "python3"
  },
  "language_info": {
   "codemirror_mode": {
    "name": "ipython",
    "version": 3
   },
   "file_extension": ".py",
   "mimetype": "text/x-python",
   "name": "python",
   "nbconvert_exporter": "python",
   "pygments_lexer": "ipython3",
   "version": "3.8.8"
  }
 },
 "nbformat": 4,
 "nbformat_minor": 5
}
